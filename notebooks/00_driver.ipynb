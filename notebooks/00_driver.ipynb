{
  "cells": [
    {
      "cell_type": "markdown",
      "metadata": {},
      "source": [
        "# Spectral Flow Research v1.0 \u2014 Driver Notebook\n",
        "Run a demo, inspect figures, and iterate.\n"
      ]
    },
    {
      "cell_type": "code",
      "metadata": {},
      "execution_count": null,
      "outputs": [],
      "source": [
        "import sys, subprocess, os\n",
        "try:\n",
        "    import spectral_flow_research as sfr\n",
        "    print('spectral_flow_research import OK \u2014', getattr(sfr, '__version__', '(unknown)'))\n",
        "except Exception:\n",
        "    print('Installing the package in editable mode...')\n",
        "    subprocess.check_call([sys.executable, '-m', 'pip', 'install', '-e', '..'])\n",
        "    import spectral_flow_research as sfr\n",
        "    print('spectral_flow_research import OK \u2014', getattr(sfr, '__version__', '(unknown)'))\n"
      ]
    },
    {
      "cell_type": "code",
      "metadata": {},
      "execution_count": null,
      "outputs": [],
      "source": [
        "from spectral_flow_research.experiment import run\n",
        "run_dir = run(n=128, K=16, frames=36, T=0.6, shape_from='ellipse', shape_to='cardioid',\n",
        "              gauge='polar', connection_mode='log_polar', equal_area=True, seed=2025)\n",
        "run_dir"
      ]
    },
    {
      "cell_type": "code",
      "metadata": {},
      "execution_count": null,
      "outputs": [],
      "source": [
        "import os\n",
        "from IPython.display import Image, display\n",
        "picks = ['spectral_braid.png','continuity_waterfall.png','connection_chord_Ahat_last.png','holonomy_phase_wheel.png','holonomy_permutation.png']\n",
        "for name in picks:\n",
        "    p = os.path.join(run_dir, name)\n",
        "    if os.path.exists(p): display(Image(filename=p))"
      ]
    }
  ],
  "metadata": {
    "kernelspec": {
      "display_name": "Python 3",
      "language": "python",
      "name": "python3"
    }
  },
  "nbformat": 4,
  "nbformat_minor": 5
}